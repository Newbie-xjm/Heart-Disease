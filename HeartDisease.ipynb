{
 "cells": [
  {
   "cell_type": "code",
   "execution_count": 33,
   "id": "9664b69f-af10-4b91-a09b-3af27e28c906",
   "metadata": {},
   "outputs": [],
   "source": [
    "import numpy as np\n",
    "import pandas as pd\n",
    "import matplotlib.pyplot as plt\n",
    "from sklearn.model_selection import train_test_split, GridSearchCV\n",
    "from sklearn.preprocessing import StandardScaler\n",
    "from sklearn import linear_model\n",
    "from sklearn.tree import DecisionTreeClassifier\n",
    "from sklearn import tree\n",
    "from sklearn.neighbors import KNeighborsClassifier\n",
    "from sklearn import svm\n",
    "from sklearn.inspection import permutation_importance\n",
    "from sklearn.model_selection import cross_val_score\n",
    "from sklearn.metrics import (confusion_matrix, precision_score, recall_score,\n",
    "                             accuracy_score, roc_auc_score, RocCurveDisplay)\n",
    "from imblearn.over_sampling import RandomOverSampler"
   ]
  },
  {
   "cell_type": "code",
   "execution_count": 34,
   "id": "ed38f447-8a03-4971-9df1-fd0092e8db58",
   "metadata": {},
   "outputs": [
    {
     "name": "stderr",
     "output_type": "stream",
     "text": [
      "C:\\Users\\lediw\\AppData\\Local\\Temp\\ipykernel_33992\\2012326158.py:2: FutureWarning: Downcasting behavior in `replace` is deprecated and will be removed in a future version. To retain the old behavior, explicitly call `result.infer_objects(copy=False)`. To opt-in to the future behavior, set `pd.set_option('future.no_silent_downcasting', True)`\n",
      "  df = df.replace({'Yes': 1, 'No': 0})\n",
      "C:\\Users\\lediw\\AppData\\Local\\Temp\\ipykernel_33992\\2012326158.py:5: FutureWarning: Downcasting behavior in `replace` is deprecated and will be removed in a future version. To retain the old behavior, explicitly call `result.infer_objects(copy=False)`. To opt-in to the future behavior, set `pd.set_option('future.no_silent_downcasting', True)`\n",
      "  df = df.replace({'Female': 1, 'Male': 0})\n"
     ]
    },
    {
     "data": {
      "text/html": [
       "<div>\n",
       "<style scoped>\n",
       "    .dataframe tbody tr th:only-of-type {\n",
       "        vertical-align: middle;\n",
       "    }\n",
       "\n",
       "    .dataframe tbody tr th {\n",
       "        vertical-align: top;\n",
       "    }\n",
       "\n",
       "    .dataframe thead th {\n",
       "        text-align: right;\n",
       "    }\n",
       "</style>\n",
       "<table border=\"1\" class=\"dataframe\">\n",
       "  <thead>\n",
       "    <tr style=\"text-align: right;\">\n",
       "      <th></th>\n",
       "      <th>HeartDisease</th>\n",
       "      <th>BMI</th>\n",
       "      <th>Smoking</th>\n",
       "      <th>AlcoholDrinking</th>\n",
       "      <th>Stroke</th>\n",
       "      <th>PhysicalHealth</th>\n",
       "      <th>MentalHealth</th>\n",
       "      <th>DiffWalking</th>\n",
       "      <th>Sex</th>\n",
       "      <th>Diabetic</th>\n",
       "      <th>PhysicalActivity</th>\n",
       "      <th>SleepTime</th>\n",
       "      <th>Asthma</th>\n",
       "      <th>KidneyDisease</th>\n",
       "      <th>SkinCancer</th>\n",
       "    </tr>\n",
       "  </thead>\n",
       "  <tbody>\n",
       "    <tr>\n",
       "      <th>126167</th>\n",
       "      <td>0</td>\n",
       "      <td>23.44</td>\n",
       "      <td>0</td>\n",
       "      <td>0</td>\n",
       "      <td>0</td>\n",
       "      <td>10.0</td>\n",
       "      <td>20.0</td>\n",
       "      <td>1</td>\n",
       "      <td>1</td>\n",
       "      <td>0</td>\n",
       "      <td>0</td>\n",
       "      <td>6.0</td>\n",
       "      <td>0</td>\n",
       "      <td>0</td>\n",
       "      <td>0</td>\n",
       "    </tr>\n",
       "    <tr>\n",
       "      <th>207506</th>\n",
       "      <td>0</td>\n",
       "      <td>32.49</td>\n",
       "      <td>0</td>\n",
       "      <td>0</td>\n",
       "      <td>0</td>\n",
       "      <td>0.0</td>\n",
       "      <td>4.0</td>\n",
       "      <td>0</td>\n",
       "      <td>0</td>\n",
       "      <td>0</td>\n",
       "      <td>1</td>\n",
       "      <td>8.0</td>\n",
       "      <td>0</td>\n",
       "      <td>0</td>\n",
       "      <td>0</td>\n",
       "    </tr>\n",
       "    <tr>\n",
       "      <th>274544</th>\n",
       "      <td>0</td>\n",
       "      <td>21.93</td>\n",
       "      <td>0</td>\n",
       "      <td>0</td>\n",
       "      <td>0</td>\n",
       "      <td>0.0</td>\n",
       "      <td>0.0</td>\n",
       "      <td>0</td>\n",
       "      <td>0</td>\n",
       "      <td>0</td>\n",
       "      <td>1</td>\n",
       "      <td>7.0</td>\n",
       "      <td>0</td>\n",
       "      <td>0</td>\n",
       "      <td>0</td>\n",
       "    </tr>\n",
       "    <tr>\n",
       "      <th>121049</th>\n",
       "      <td>0</td>\n",
       "      <td>26.58</td>\n",
       "      <td>0</td>\n",
       "      <td>0</td>\n",
       "      <td>0</td>\n",
       "      <td>0.0</td>\n",
       "      <td>2.0</td>\n",
       "      <td>0</td>\n",
       "      <td>0</td>\n",
       "      <td>0</td>\n",
       "      <td>1</td>\n",
       "      <td>7.0</td>\n",
       "      <td>0</td>\n",
       "      <td>0</td>\n",
       "      <td>0</td>\n",
       "    </tr>\n",
       "    <tr>\n",
       "      <th>260961</th>\n",
       "      <td>0</td>\n",
       "      <td>19.02</td>\n",
       "      <td>1</td>\n",
       "      <td>0</td>\n",
       "      <td>0</td>\n",
       "      <td>2.0</td>\n",
       "      <td>2.0</td>\n",
       "      <td>0</td>\n",
       "      <td>1</td>\n",
       "      <td>0</td>\n",
       "      <td>1</td>\n",
       "      <td>6.0</td>\n",
       "      <td>0</td>\n",
       "      <td>0</td>\n",
       "      <td>0</td>\n",
       "    </tr>\n",
       "  </tbody>\n",
       "</table>\n",
       "</div>"
      ],
      "text/plain": [
       "        HeartDisease    BMI  Smoking  AlcoholDrinking  Stroke  PhysicalHealth  \\\n",
       "126167             0  23.44        0                0       0            10.0   \n",
       "207506             0  32.49        0                0       0             0.0   \n",
       "274544             0  21.93        0                0       0             0.0   \n",
       "121049             0  26.58        0                0       0             0.0   \n",
       "260961             0  19.02        1                0       0             2.0   \n",
       "\n",
       "        MentalHealth  DiffWalking  Sex Diabetic  PhysicalActivity  SleepTime  \\\n",
       "126167          20.0            1    1        0                 0        6.0   \n",
       "207506           4.0            0    0        0                 1        8.0   \n",
       "274544           0.0            0    0        0                 1        7.0   \n",
       "121049           2.0            0    0        0                 1        7.0   \n",
       "260961           2.0            0    1        0                 1        6.0   \n",
       "\n",
       "        Asthma  KidneyDisease  SkinCancer  \n",
       "126167       0              0           0  \n",
       "207506       0              0           0  \n",
       "274544       0              0           0  \n",
       "121049       0              0           0  \n",
       "260961       0              0           0  "
      ]
     },
     "execution_count": 34,
     "metadata": {},
     "output_type": "execute_result"
    }
   ],
   "source": [
    "df = pd.read_csv('heart_disease.csv')\n",
    "df = df.replace({'Yes': 1, 'No': 0})\n",
    "df = df.replace({'Yes (during pregnancy)':'1'})\n",
    "df = df.replace({'No, borderline diabetes':'0'})\n",
    "df = df.replace({'Female': 1, 'Male': 0})\n",
    "df = df.drop(columns=['AgeCategory','Race','GenHealth'])\n",
    "df.head()\n",
    "df = df.sample(frac=0.01, random_state=0)\n",
    "df.head()"
   ]
  },
  {
   "cell_type": "code",
   "execution_count": 35,
   "id": "6b914824-c3e0-4497-a5f0-d78d31fb8409",
   "metadata": {},
   "outputs": [],
   "source": [
    "feature = df.drop(columns=['HeartDisease'])\n",
    "X = feature.values\n",
    "y = df['HeartDisease'] \n",
    "\n",
    "scaler = StandardScaler()\n",
    "X_scaled = scaler.fit_transform(X)\n",
    "\n",
    "X_train, X_tv, y_train, y_tv = train_test_split(X_scaled, y, test_size=.2, random_state=0, stratify=y)\n",
    "X_val, X_test, y_val, y_test = train_test_split(X_tv, y_tv, test_size=.5, random_state=0, stratify=y_tv)\n",
    "\n",
    "ros = RandomOverSampler(random_state=0)\n",
    "X_train, y_train = ros.fit_resample(X_train, y_train)\n",
    "X_val, y_val = ros.fit_resample(X_train, y_train)"
   ]
  },
  {
   "cell_type": "code",
   "execution_count": null,
   "id": "8ff82413-74a6-4745-8cbc-d65a5e1452e3",
   "metadata": {},
   "outputs": [],
   "source": [
    "models = [svm.SVC(), linear_model.LogisticRegression(), DecisionTreeClassifier(), KNeighborsClassifier()]\n",
    "hyperpas = [{'kernel':['linear','rbf'], 'C':[0.01, 1, 100]},\n",
    "            {'max_iter':[5000, 10000], 'C':[0.01, 1, 100]},\n",
    "            {'criterion':['entropy'], 'max_depth':[1, 3, 5, 7]},\n",
    "            {'n_neighbors':[1, 2, 3, 4]}, {'random_state':[0]}]\n",
    "best_index = -1\n",
    "best_score = -np.inf\n",
    "best_clf = None\n",
    "for i in range(4):\n",
    "    curr_model = models[i]\n",
    "    curr_clf = GridSearchCV(curr_model, hyperpas[i])\n",
    "    curr_clf.fit(X_train, y_train)\n",
    "    curr_score = curr_clf.score(X_val, y_val)\n",
    "    if curr_score > best_score:\n",
    "        best_index = i\n",
    "        best_score = curr_score\n",
    "        best_clf = curr_clf\n",
    "    print(f'Current model = {curr_model}, Best score for this model = {curr_score:.3}, Parameters = {curr_clf.best_params_}')\n",
    "print(f'\\nBest index = {best_index}, Best score = {best_score:.3}, Best classifier = {best_clf}, Parameters = {best_clf.best_params_}')"
   ]
  },
  {
   "cell_type": "code",
   "execution_count": 14,
   "id": "76216dfa-db53-497f-84d7-65abae0398d6",
   "metadata": {},
   "outputs": [
    {
     "name": "stdout",
     "output_type": "stream",
     "text": [
      "             Feature  Coefficient\n",
      "8           Diabetic     0.409905\n",
      "6        DiffWalking     0.345569\n",
      "3             Stroke     0.261027\n",
      "4     PhysicalHealth     0.214323\n",
      "12     KidneyDisease     0.205339\n",
      "13        SkinCancer     0.195566\n",
      "1            Smoking     0.130738\n",
      "11            Asthma     0.058507\n",
      "10         SleepTime    -0.001898\n",
      "0                BMI    -0.045078\n",
      "9   PhysicalActivity    -0.084857\n",
      "2    AlcoholDrinking    -0.167091\n",
      "5       MentalHealth    -0.175957\n",
      "7                Sex    -0.313917\n"
     ]
    }
   ],
   "source": [
    "# Seprecated\n",
    "lr = linear_model.LogisticRegression(max_iter=10000,random_state=0)\n",
    "lr.fit(X_train, y_train)\n",
    "lr_feature = pd.DataFrame({'Feature':feature.columns,'Coefficient':lr.coef_[0]})\n",
    "lr_feature = lr_feature.sort_values(by='Coefficient',ascending=False)\n",
    "print(lr_feature)"
   ]
  },
  {
   "cell_type": "code",
   "execution_count": 18,
   "id": "ffbb2a71-39d4-4554-9394-a9042700c5a9",
   "metadata": {},
   "outputs": [
    {
     "name": "stdout",
     "output_type": "stream",
     "text": [
      "             Feature    Importance\n",
      "12     KidneyDisease  3.000000e-03\n",
      "11            Asthma  2.000000e-03\n",
      "10         SleepTime  1.500000e-03\n",
      "5       MentalHealth -4.440892e-17\n",
      "8           Diabetic -2.500000e-04\n",
      "4     PhysicalHealth -5.000000e-04\n",
      "3             Stroke -1.250000e-03\n",
      "1            Smoking -1.250000e-03\n",
      "2    AlcoholDrinking -1.250000e-03\n",
      "0                BMI -2.000000e-03\n",
      "7                Sex -2.250000e-03\n",
      "6        DiffWalking -3.000000e-03\n",
      "9   PhysicalActivity -4.000000e-03\n",
      "13        SkinCancer -4.000000e-03\n"
     ]
    }
   ],
   "source": [
    "# Deprecated\n",
    "knn = KNeighborsClassifier(n_neighbors=3)\n",
    "knn.fit(X_train, y_train)\n",
    "feature_importance = permutation_importance(knn, X_test, y_test, scoring='accuracy', random_state=0)\n",
    "knn_feature = pd.DataFrame({'Feature':feature.columns,'Importance':feature_importance.importances_mean})\n",
    "knn_feature = knn_feature.sort_values(by='Importance',ascending=False)\n",
    "print(knn_feature)"
   ]
  },
  {
   "cell_type": "code",
   "execution_count": 9,
   "id": "51cf0271-c2fe-4d38-9f4d-c6519ed81e4e",
   "metadata": {},
   "outputs": [
    {
     "name": "stdout",
     "output_type": "stream",
     "text": [
      "             Feature  Importance\n",
      "0                BMI    0.391280\n",
      "10         SleepTime    0.127673\n",
      "4     PhysicalHealth    0.090477\n",
      "1            Smoking    0.063330\n",
      "5       MentalHealth    0.061532\n",
      "6        DiffWalking    0.053557\n",
      "9   PhysicalActivity    0.040443\n",
      "13        SkinCancer    0.038492\n",
      "8           Diabetic    0.034010\n",
      "12     KidneyDisease    0.026572\n",
      "7                Sex    0.024747\n",
      "3             Stroke    0.022591\n",
      "11            Asthma    0.013538\n",
      "2    AlcoholDrinking    0.011759\n"
     ]
    }
   ],
   "source": [
    "# Deprecated\n",
    "tree = DecisionTreeClassifier(random_state=0)\n",
    "tree.fit(X_train, y_train)\n",
    "feature_importance = pd.DataFrame({'Feature':feature.columns,'Importance':tree.feature_importances_})\n",
    "tree_feature = feature_importance.sort_values(by='Importance',ascending=False)\n",
    "print(tree_feature)"
   ]
  },
  {
   "cell_type": "code",
   "execution_count": 10,
   "id": "cbc19249-c0ac-4f89-82af-a84b7e19a40b",
   "metadata": {},
   "outputs": [
    {
     "name": "stdout",
     "output_type": "stream",
     "text": [
      "             Feature   Coefficient\n",
      "8           Diabetic  4.809777e-05\n",
      "12     KidneyDisease  4.793828e-05\n",
      "1            Smoking  3.171471e-05\n",
      "6        DiffWalking  9.289793e-06\n",
      "7                Sex  8.539540e-06\n",
      "11            Asthma  8.706122e-07\n",
      "10         SleepTime -4.298855e-06\n",
      "13        SkinCancer -4.869591e-06\n",
      "4     PhysicalHealth -9.804496e-06\n",
      "3             Stroke -1.499507e-05\n",
      "0                BMI -1.885034e-05\n",
      "5       MentalHealth -3.387512e-05\n",
      "9   PhysicalActivity -4.368841e-05\n",
      "2    AlcoholDrinking -5.142829e-05\n"
     ]
    }
   ],
   "source": [
    "# Deprecated\n",
    "svm_linear = svm.SVC(kernel='linear', random_state=0)\n",
    "svm_linear.fit(X_train, y_train)\n",
    "svm_feature = pd.DataFrame({'Feature':feature.columns,'Coefficient':svm_linear.coef_[0]})\n",
    "svm_feature = svm_feature.sort_values(by='Coefficient',ascending=False)\n",
    "print(svm_feature)"
   ]
  },
  {
   "cell_type": "code",
   "execution_count": 17,
   "id": "4728c7d5-8b83-4c09-91e6-ccbf756400fa",
   "metadata": {},
   "outputs": [
    {
     "name": "stdout",
     "output_type": "stream",
     "text": [
      "             Feature  Importance\n",
      "8           Diabetic     0.00075\n",
      "9   PhysicalActivity     0.00075\n",
      "10         SleepTime     0.00050\n",
      "11            Asthma     0.00050\n",
      "0                BMI     0.00050\n",
      "1            Smoking     0.00050\n",
      "12     KidneyDisease     0.00025\n",
      "5       MentalHealth     0.00000\n",
      "4     PhysicalHealth     0.00000\n",
      "2    AlcoholDrinking     0.00000\n",
      "6        DiffWalking     0.00000\n",
      "7                Sex     0.00000\n",
      "13        SkinCancer    -0.00050\n",
      "3             Stroke    -0.00150\n"
     ]
    }
   ],
   "source": [
    "# Deprecated\n",
    "svm_rbf = svm.SVC(kernel='rbf', random_state=0)\n",
    "svm_rbf.fit(X_train, y_train)\n",
    "feature_importance = permutation_importance(svm_rbf, X_test, y_test, scoring='accuracy', random_state=0)\n",
    "rbf_feature = pd.DataFrame({'Feature':feature.columns,'Importance':feature_importance.importances_mean})\n",
    "rbf_feature = rbf_feature.sort_values(by='Importance',ascending=False)\n",
    "print(rbf_feature)"
   ]
  },
  {
   "cell_type": "code",
   "execution_count": 16,
   "id": "8d78e5f5-7d34-49fe-84f6-92a75b581b46",
   "metadata": {},
   "outputs": [
    {
     "ename": "NameError",
     "evalue": "name 'knn' is not defined",
     "output_type": "error",
     "traceback": [
      "\u001b[1;31m---------------------------------------------------------------------------\u001b[0m",
      "\u001b[1;31mNameError\u001b[0m                                 Traceback (most recent call last)",
      "Cell \u001b[1;32mIn[16], line 3\u001b[0m\n\u001b[0;32m      1\u001b[0m classifiers \u001b[38;5;241m=\u001b[39m {\n\u001b[0;32m      2\u001b[0m     \u001b[38;5;124m'\u001b[39m\u001b[38;5;124mLogistic Regression\u001b[39m\u001b[38;5;124m'\u001b[39m: lr,\n\u001b[1;32m----> 3\u001b[0m     \u001b[38;5;124m'\u001b[39m\u001b[38;5;124mkNN\u001b[39m\u001b[38;5;124m'\u001b[39m: \u001b[43mknn\u001b[49m,\n\u001b[0;32m      4\u001b[0m     \u001b[38;5;124m'\u001b[39m\u001b[38;5;124mDecision Tree\u001b[39m\u001b[38;5;124m'\u001b[39m: tree,\n\u001b[0;32m      5\u001b[0m     \u001b[38;5;124m'\u001b[39m\u001b[38;5;124mSVM (Linear)\u001b[39m\u001b[38;5;124m'\u001b[39m: svm_linear,\n\u001b[0;32m      6\u001b[0m     \u001b[38;5;124m'\u001b[39m\u001b[38;5;124mSVM (RBF)\u001b[39m\u001b[38;5;124m'\u001b[39m: svm_rbf\n\u001b[0;32m      7\u001b[0m }\n\u001b[0;32m      8\u001b[0m \u001b[38;5;28;01mfor\u001b[39;00m clf_name, clf \u001b[38;5;129;01min\u001b[39;00m classifiers\u001b[38;5;241m.\u001b[39mitems():\n\u001b[0;32m      9\u001b[0m     \u001b[38;5;28mprint\u001b[39m(\u001b[38;5;124mf\u001b[39m\u001b[38;5;124m'\u001b[39m\u001b[38;5;132;01m{\u001b[39;00mclf_name\u001b[38;5;132;01m}\u001b[39;00m\u001b[38;5;124m:\u001b[39m\u001b[38;5;124m'\u001b[39m)\n",
      "\u001b[1;31mNameError\u001b[0m: name 'knn' is not defined"
     ]
    }
   ],
   "source": [
    "# Deprecated\n",
    "classifiers = {\n",
    "    'Logistic Regression': lr,\n",
    "    'kNN': knn,\n",
    "    'Decision Tree': tree,\n",
    "    'SVM (Linear)': svm_linear,\n",
    "    'SVM (RBF)': svm_rbf\n",
    "}\n",
    "for clf_name, clf in classifiers.items():\n",
    "    print(f'{clf_name}:')\n",
    "    print(f'Training accuracy is {clf.score(X_train, y_train):.3}.')\n",
    "    scores = cross_val_score(clf, X_train, y_train, cv=5, scoring='accuracy')\n",
    "    with np.printoptions(precision=2):\n",
    "        print(f'Cross-validation scores={scores}, mean={np.mean(scores):.3}')\n",
    "    print(f'Test accuracy is {clf.score(X_test, y_test):.3}.\\n')"
   ]
  },
  {
   "cell_type": "code",
   "execution_count": 24,
   "id": "b676a739-4c8f-4506-a346-f399620d71b7",
   "metadata": {},
   "outputs": [
    {
     "name": "stdout",
     "output_type": "stream",
     "text": [
      "Current model = SVC(), Best score for this model = 0.922, Parameters = {'C': 0.01, 'kernel': 'linear'}\n",
      "Current model = LogisticRegression(), Best score for this model = 0.928, Parameters = {'C': 0.01, 'max_iter': 5000}\n",
      "Current model = DecisionTreeClassifier(), Best score for this model = 0.922, Parameters = {'criterion': 'entropy', 'max_depth': 3}\n",
      "Current model = KNeighborsClassifier(), Best score for this model = 0.919, Parameters = {'n_neighbors': 4}\n",
      "\n",
      "Best index = 1, Best score = 0.928, Best classifier = GridSearchCV(estimator=LogisticRegression(),\n",
      "             param_grid={'C': [0.01, 1, 100], 'max_iter': [5000, 10000]}), Parameters = {'C': 0.01, 'max_iter': 5000}\n"
     ]
    }
   ],
   "source": []
  },
  {
   "cell_type": "code",
   "execution_count": 38,
   "id": "ca33418c-f7cd-4172-9726-9c6b3f9eccb3",
   "metadata": {},
   "outputs": [
    {
     "data": {
      "text/plain": [
       "(array([0, 1]), array([295,  25]))"
      ]
     },
     "execution_count": 38,
     "metadata": {},
     "output_type": "execute_result"
    }
   ],
   "source": [
    "np.unique(y_test, return_counts=True)"
   ]
  },
  {
   "cell_type": "code",
   "execution_count": 31,
   "id": "05daa685-bdd4-4138-9115-d012032255f9",
   "metadata": {},
   "outputs": [
    {
     "name": "stdout",
     "output_type": "stream",
     "text": [
      "Accuracy: 0.931, Precision: 0.8, Recall: 0.16, AUC: 0.841\n"
     ]
    }
   ],
   "source": [
    "clf = best_clf\n",
    "y_hat = clf.predict(X_test)\n",
    "print(f'Accuracy: {accuracy_score(y_test, y_hat):.3}, Precision: {precision_score(y_test, y_hat):.3}, Recall: {recall_score(y_test, y_hat):.3}, AUC: {roc_auc_score(y_test, clf.predict_proba(X_test)[:, 1]):.3}')"
   ]
  },
  {
   "cell_type": "code",
   "execution_count": null,
   "id": "05996379-160d-436f-bc81-315986d95901",
   "metadata": {},
   "outputs": [],
   "source": []
  }
 ],
 "metadata": {
  "kernelspec": {
   "display_name": "Python 3 (ipykernel)",
   "language": "python",
   "name": "python3"
  },
  "language_info": {
   "codemirror_mode": {
    "name": "ipython",
    "version": 3
   },
   "file_extension": ".py",
   "mimetype": "text/x-python",
   "name": "python",
   "nbconvert_exporter": "python",
   "pygments_lexer": "ipython3",
   "version": "3.12.4"
  }
 },
 "nbformat": 4,
 "nbformat_minor": 5
}
